{
 "cells": [
  {
   "cell_type": "code",
   "execution_count": 1,
   "metadata": {},
   "outputs": [],
   "source": [
    "import time\n",
    "from dataclasses import dataclass\n",
    "from typing import *\n",
    "\n",
    "import matplotlib\n",
    "import matplotlib.animation\n",
    "import matplotlib.patches\n",
    "import matplotlib.pyplot as plt\n",
    "import torch\n",
    "from torch import Tensor, nn"
   ]
  },
  {
   "cell_type": "code",
   "execution_count": 2,
   "metadata": {},
   "outputs": [],
   "source": [
    "EX = torch.tensor([1., 0.])\n",
    "EY = torch.tensor([0., 1.])\n",
    "\n",
    "@dataclass\n",
    "class State:\n",
    "    # Variables\n",
    "    ball: Tensor\n",
    "    ball_v: Tensor\n",
    "    paddles: Tensor  # (2, 2)\n",
    "    outcome: Tensor  # 0 = playing, +1 = player0 wins, -1 = player1 wins\n",
    "    # Constants\n",
    "    dt: float\n",
    "    bounds: Tensor  # [[xmin, ymin], [xmax, ymax]]\n",
    "    paddle_speed: float\n",
    "    paddle_width: float\n",
    "    bounce_acceleration: float\n",
    "\n",
    "    def update(self, control: Tensor) -> None:\n",
    "        dt = self.dt * (self.outcome == 0)\n",
    "        # Update\n",
    "        self.paddles.add_(dt * self.paddle_speed * control[:, None] * EX).clip_(*self.bounds)\n",
    "        self.ball.add_(dt * self.ball_v)\n",
    "        # End of game\n",
    "        oob_lo = (self.ball < self.bounds[0])\n",
    "        oob_hi = (self.bounds[1] < self.ball)\n",
    "        win0 = oob_hi[1] & ((self.paddle_width/2) < (self.paddles[1, 0] - self.ball[0]).abs_())\n",
    "        win1 = oob_lo[1] & ((self.paddle_width/2) < (self.paddles[0, 0] - self.ball[0]).abs_())\n",
    "        self.outcome = self.outcome | (win0.long() - win1.long())\n",
    "        # Bounce\n",
    "        self.ball_v *= 1 - (2 + self.bounce_acceleration) * (oob_lo | oob_hi)\n",
    "        self.ball.clip_(*self.bounds)\n",
    "\n",
    "    @classmethod\n",
    "    def init(cls) -> \"State\":\n",
    "        return cls(\n",
    "            ball=torch.tensor([0., 0.]),\n",
    "            ball_v=torch.tensor([torch.rand(()).round() * 2 - 1, torch.rand(()) * 4 - 2]),\n",
    "            paddles=torch.tensor([[0., -1.], [0., 1.]]),\n",
    "            outcome=torch.tensor(0),\n",
    "            dt=0.02,\n",
    "            bounds=torch.tensor([[-.5, -1], [.5, 1.]]),\n",
    "            paddle_speed=2,\n",
    "            paddle_width=0.2,\n",
    "            bounce_acceleration=0.2,\n",
    "        )\n",
    "\n",
    "@dataclass\n",
    "class Render:\n",
    "    figure: matplotlib.figure.Figure\n",
    "    ball: matplotlib.patches.Circle\n",
    "    paddle0: matplotlib.patches.Rectangle\n",
    "    paddle1: matplotlib.patches.Rectangle\n",
    "\n",
    "    @property\n",
    "    def ax(self) -> matplotlib.axes.Axes:\n",
    "        return self.figure.gca()\n",
    "\n",
    "    def update(self, state: State) -> None:\n",
    "        self.ball.set_center(state.ball)\n",
    "        self.paddle0.set_xy(state.paddles[0] - state.paddle_width/2 * EX - self.paddle0.get_height()/2)\n",
    "        self.paddle1.set_xy(state.paddles[1] - state.paddle_width/2 * EX - self.paddle1.get_height()/2)\n",
    "\n",
    "    @classmethod\n",
    "    def init(cls, state: State) -> \"Render\":\n",
    "        render = cls(\n",
    "            figure=plt.figure(figsize=(8, 8), clear=True),\n",
    "            ball=matplotlib.patches.Circle([0, 0], 0.02, color=\"#f00\"),\n",
    "            paddle0=matplotlib.patches.Rectangle([0, 0], state.paddle_width, 0.04, color=\"#0a0\"),\n",
    "            paddle1=matplotlib.patches.Rectangle([0, 0], state.paddle_width, 0.04, color=\"#00f\"),\n",
    "        )\n",
    "        plt.close()\n",
    "        for a in render.__dict__.values():\n",
    "            if a is not render.figure:\n",
    "                render.ax.add_patch(a)\n",
    "        render.ax.set_xlim(state.bounds[:, 0])\n",
    "        render.ax.set_ylim(state.bounds[:, 1])\n",
    "        render.ax.set_xticks([])\n",
    "        render.ax.set_yticks([])\n",
    "        render.ax.set_aspect(\"equal\")\n",
    "        render.update(state)\n",
    "        return render\n",
    "\n",
    "Agent = Callable[[State], Tensor]\n",
    "\n",
    "def script_agent(player: int) -> Agent:\n",
    "    return lambda state: 2 * (state.paddles[player, 0] < state.ball[0]) - 1\n",
    "\n",
    "@dataclass\n",
    "class Log:\n",
    "    ball: List[Tensor]\n",
    "    paddles: List[Tensor]\n",
    "    control: List[Tensor]\n",
    "\n",
    "    def update(self, state: State, control: Tensor) -> None:\n",
    "        self.ball.append(state.ball.clone())\n",
    "        self.paddles.append(state.paddles.clone())\n",
    "        self.control.append(control.clone())\n",
    "\n",
    "def play(p0: Agent, p1: Agent) -> Log:\n",
    "    state = State.init()\n",
    "    render = Render.init(state)\n",
    "    log = Log([], [], [])\n",
    "    h = display(render.figure, display_id=\"game\", clear=True)\n",
    "    for _ in range(300):\n",
    "        control = torch.stack([p0(state), p1(state)])\n",
    "        log.update(state, control)\n",
    "        state.update(control)\n",
    "        render.update(state)\n",
    "        time.sleep(state.dt)\n",
    "        h.update(render.figure)\n",
    "        if state.outcome.item():\n",
    "            break\n",
    "    return log"
   ]
  },
  {
   "cell_type": "code",
   "execution_count": 3,
   "metadata": {},
   "outputs": [
    {
     "data": {
      "image/png": "[encoded data removed]",
      "text/plain": [
       "<Figure size 800x800 with 1 Axes>"
      ]
     },
     "metadata": {},
     "output_type": "display_data"
    }
   ],
   "source": [
    "log = play(script_agent(0), script_agent(1))\n",
    "data_state = torch.concat([torch.stack(log.ball), torch.stack(log.paddles)[:, 0, :1]], -1)\n",
    "data_control = torch.stack(log.control)[:, 0]"
   ]
  },
  {
   "cell_type": "code",
   "execution_count": 4,
   "metadata": {},
   "outputs": [
    {
     "name": "stdout",
     "output_type": "stream",
     "text": [
      "0     1.121   26%\n",
      "10    0.520   77%\n",
      "20    0.280   89%\n",
      "30    0.186   91%\n",
      "40    0.161   91%\n",
      "50    0.156   91%\n",
      "60    0.155   91%\n",
      "70    0.155   91%\n",
      "80    0.154   91%\n",
      "90    0.154   91%\n",
      "100   0.154   91%\n"
     ]
    }
   ],
   "source": [
    "class Model(nn.Module):\n",
    "    def __init__(self, hidden_size: int, n_buckets: int):\n",
    "        super().__init__()\n",
    "        self.n_buckets = n_buckets\n",
    "        self.hidden_size = hidden_size\n",
    "        self.embed = nn.Parameter(torch.randn(n_buckets, 3, hidden_size))\n",
    "        self.mlp = nn.Sequential(\n",
    "            nn.Linear(3 * hidden_size, hidden_size),\n",
    "            nn.ReLU(),\n",
    "            nn.Linear(hidden_size, 3)\n",
    "        )\n",
    "\n",
    "    def forward(self, state: Tensor) -> Tensor:\n",
    "        \"\"\"\n",
    "        state -- (batch, [ball_x, ball_y, paddle_x])\n",
    "        \"\"\"\n",
    "        embed_index = ((state + 1) * 0.5 * (self.n_buckets - 1)).clip_(0, self.n_buckets - 1).round_().long()\n",
    "        hidden = self.embed.gather(0, embed_index[:, :, None].expand(embed_index.shape + (self.hidden_size,)))\n",
    "        hidden = hidden.flatten(start_dim=1)\n",
    "        return self.mlp(hidden)\n",
    "\n",
    "    def loss_accuracy(self, state: Tensor, control: Tensor) -> Tuple[Tensor, Tensor]:\n",
    "        logits = self(state)\n",
    "        loss = nn.functional.cross_entropy(logits, control + 1)\n",
    "        accuracy = (logits.argmax(-1) == (control + 1)).float().mean()\n",
    "        return loss, accuracy\n",
    "\n",
    "    def agent(self, player: int) -> Agent:\n",
    "        def _act(state: State) -> Tensor:\n",
    "            state_v = torch.concat([state.ball, state.paddles[player, :1]])\n",
    "            state_v[1] *= 1 - 2 * (player == 1)\n",
    "            logits = self(state_v[None])[0]\n",
    "            return logits.argmax() - 1\n",
    "        return _act\n",
    "\n",
    "model = Model(hidden_size=32, n_buckets=20)\n",
    "opt = torch.optim.Adam(model.parameters(), 0.01)\n",
    "# opt = torch.optim.SGD(model.parameters(), 0.5)\n",
    "for i in range(101):\n",
    "    opt.zero_grad()\n",
    "    loss, accuracy = model.loss_accuracy(data_state, data_control)\n",
    "    if i % 10 == 0:\n",
    "        print(f\"{i:<3d}   {loss:.3f}   {accuracy:.0%}\")\n",
    "    loss.backward()\n",
    "    opt.step()"
   ]
  },
  {
   "cell_type": "code",
   "execution_count": 5,
   "metadata": {},
   "outputs": [
    {
     "data": {
      "image/png": "[encoded data removed]",
      "text/plain": [
       "<Figure size 800x800 with 1 Axes>"
      ]
     },
     "metadata": {},
     "output_type": "display_data"
    }
   ],
   "source": [
    "play(model.agent(0), model.agent(1));"
   ]
  }
 ],
 "metadata": {
  "kernelspec": {
   "display_name": ".venv",
   "language": "python",
   "name": "python3"
  },
  "language_info": {
   "codemirror_mode": {
    "name": "ipython",
    "version": 3
   },
   "file_extension": ".py",
   "mimetype": "text/x-python",
   "name": "python",
   "nbconvert_exporter": "python",
   "pygments_lexer": "ipython3",
   "version": "3.10.12"
  }
 },
 "nbformat": 4,
 "nbformat_minor": 2
}
